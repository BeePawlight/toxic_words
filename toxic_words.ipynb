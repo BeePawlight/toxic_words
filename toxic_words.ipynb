{
 "cells": [
  {
   "cell_type": "markdown",
   "id": "76d1f145",
   "metadata": {},
   "source": [
    "# Проект для «Викишоп»"
   ]
  },
  {
   "cell_type": "markdown",
   "id": "78385c82",
   "metadata": {},
   "source": [
    "Интернет-магазин «Викишоп» запускает новый сервис. Теперь пользователи могут редактировать и дополнять описания товаров, как в вики-сообществах. То есть клиенты предлагают свои правки и комментируют изменения других. Магазину нужен инструмент, который будет искать токсичные комментарии и отправлять их на модерацию. \n",
    "\n",
    "Обучите модель классифицировать комментарии на позитивные и негативные. В вашем распоряжении набор данных с разметкой о токсичности правок.\n",
    "\n",
    "Постройте модель со значением метрики качества *F1* не меньше 0.75. \n",
    "\n",
    "**Инструкция по выполнению проекта**\n",
    "\n",
    "1. Загрузите и подготовьте данные.\n",
    "2. Обучите разные модели. \n",
    "3. Сделайте выводы.\n",
    "\n",
    "**Описание данных**\n",
    "\n",
    "Данные находятся в файле `toxic_comments.csv`. Столбец *text* в нём содержит текст комментария, а *toxic* — целевой признак."
   ]
  },
  {
   "cell_type": "markdown",
   "id": "7a096ef9",
   "metadata": {},
   "source": [
    "## Подготовка"
   ]
  },
  {
   "cell_type": "code",
   "execution_count": 1,
   "id": "6ce6dd41",
   "metadata": {},
   "outputs": [
    {
     "name": "stderr",
     "output_type": "stream",
     "text": [
      "[nltk_data] Downloading package stopwords to\n",
      "[nltk_data]     C:\\Users\\Pasha\\AppData\\Roaming\\nltk_data...\n",
      "[nltk_data]   Package stopwords is already up-to-date!\n",
      "[nltk_data] Downloading package punkt to\n",
      "[nltk_data]     C:\\Users\\Pasha\\AppData\\Roaming\\nltk_data...\n",
      "[nltk_data]   Package punkt is already up-to-date!\n",
      "[nltk_data] Downloading package wordnet to\n",
      "[nltk_data]     C:\\Users\\Pasha\\AppData\\Roaming\\nltk_data...\n",
      "[nltk_data]   Package wordnet is already up-to-date!\n"
     ]
    }
   ],
   "source": [
    "import pandas as pd\n",
    "from pymystem3 import Mystem\n",
    "import re\n",
    "import nltk\n",
    "nltk.download('stopwords')\n",
    "nltk.download('punkt')\n",
    "nltk.download('wordnet')\n",
    "import spacy\n",
    "\n",
    "from sklearn.model_selection import train_test_split\n",
    "from sklearn.feature_extraction.text import TfidfVectorizer\n",
    "from sklearn.metrics import f1_score, accuracy_score\n",
    "from sklearn.utils import shuffle\n",
    "from sklearn.linear_model import LogisticRegression\n",
    "from sklearn.model_selection import cross_val_score, GridSearchCV\n",
    "from catboost import CatBoostClassifier\n",
    "from sklearn.tree import DecisionTreeClassifier\n",
    "\n",
    "\n",
    "from nltk.corpus import stopwords as nltk_stopwords\n",
    "\n",
    "import warnings\n",
    "warnings.filterwarnings('ignore')"
   ]
  },
  {
   "cell_type": "code",
   "execution_count": 2,
   "id": "91bfccb8",
   "metadata": {},
   "outputs": [],
   "source": [
    "data = pd.read_csv('/toxic_comments.csv')"
   ]
  },
  {
   "cell_type": "code",
   "execution_count": 3,
   "id": "92dbef53",
   "metadata": {},
   "outputs": [
    {
     "data": {
      "text/html": [
       "<div>\n",
       "<style scoped>\n",
       "    .dataframe tbody tr th:only-of-type {\n",
       "        vertical-align: middle;\n",
       "    }\n",
       "\n",
       "    .dataframe tbody tr th {\n",
       "        vertical-align: top;\n",
       "    }\n",
       "\n",
       "    .dataframe thead th {\n",
       "        text-align: right;\n",
       "    }\n",
       "</style>\n",
       "<table border=\"1\" class=\"dataframe\">\n",
       "  <thead>\n",
       "    <tr style=\"text-align: right;\">\n",
       "      <th></th>\n",
       "      <th>Unnamed: 0</th>\n",
       "      <th>text</th>\n",
       "      <th>toxic</th>\n",
       "    </tr>\n",
       "  </thead>\n",
       "  <tbody>\n",
       "    <tr>\n",
       "      <th>0</th>\n",
       "      <td>0</td>\n",
       "      <td>Explanation\\nWhy the edits made under my usern...</td>\n",
       "      <td>0</td>\n",
       "    </tr>\n",
       "    <tr>\n",
       "      <th>1</th>\n",
       "      <td>1</td>\n",
       "      <td>D'aww! He matches this background colour I'm s...</td>\n",
       "      <td>0</td>\n",
       "    </tr>\n",
       "    <tr>\n",
       "      <th>2</th>\n",
       "      <td>2</td>\n",
       "      <td>Hey man, I'm really not trying to edit war. It...</td>\n",
       "      <td>0</td>\n",
       "    </tr>\n",
       "    <tr>\n",
       "      <th>3</th>\n",
       "      <td>3</td>\n",
       "      <td>\"\\nMore\\nI can't make any real suggestions on ...</td>\n",
       "      <td>0</td>\n",
       "    </tr>\n",
       "    <tr>\n",
       "      <th>4</th>\n",
       "      <td>4</td>\n",
       "      <td>You, sir, are my hero. Any chance you remember...</td>\n",
       "      <td>0</td>\n",
       "    </tr>\n",
       "    <tr>\n",
       "      <th>5</th>\n",
       "      <td>5</td>\n",
       "      <td>\"\\n\\nCongratulations from me as well, use the ...</td>\n",
       "      <td>0</td>\n",
       "    </tr>\n",
       "    <tr>\n",
       "      <th>6</th>\n",
       "      <td>6</td>\n",
       "      <td>COCKSUCKER BEFORE YOU PISS AROUND ON MY WORK</td>\n",
       "      <td>1</td>\n",
       "    </tr>\n",
       "    <tr>\n",
       "      <th>7</th>\n",
       "      <td>7</td>\n",
       "      <td>Your vandalism to the Matt Shirvington article...</td>\n",
       "      <td>0</td>\n",
       "    </tr>\n",
       "    <tr>\n",
       "      <th>8</th>\n",
       "      <td>8</td>\n",
       "      <td>Sorry if the word 'nonsense' was offensive to ...</td>\n",
       "      <td>0</td>\n",
       "    </tr>\n",
       "    <tr>\n",
       "      <th>9</th>\n",
       "      <td>9</td>\n",
       "      <td>alignment on this subject and which are contra...</td>\n",
       "      <td>0</td>\n",
       "    </tr>\n",
       "  </tbody>\n",
       "</table>\n",
       "</div>"
      ],
      "text/plain": [
       "   Unnamed: 0                                               text  toxic\n",
       "0           0  Explanation\\nWhy the edits made under my usern...      0\n",
       "1           1  D'aww! He matches this background colour I'm s...      0\n",
       "2           2  Hey man, I'm really not trying to edit war. It...      0\n",
       "3           3  \"\\nMore\\nI can't make any real suggestions on ...      0\n",
       "4           4  You, sir, are my hero. Any chance you remember...      0\n",
       "5           5  \"\\n\\nCongratulations from me as well, use the ...      0\n",
       "6           6       COCKSUCKER BEFORE YOU PISS AROUND ON MY WORK      1\n",
       "7           7  Your vandalism to the Matt Shirvington article...      0\n",
       "8           8  Sorry if the word 'nonsense' was offensive to ...      0\n",
       "9           9  alignment on this subject and which are contra...      0"
      ]
     },
     "execution_count": 3,
     "metadata": {},
     "output_type": "execute_result"
    }
   ],
   "source": [
    "data.head(10)"
   ]
  },
  {
   "cell_type": "code",
   "execution_count": 4,
   "id": "09de9343",
   "metadata": {},
   "outputs": [
    {
     "name": "stdout",
     "output_type": "stream",
     "text": [
      "<class 'pandas.core.frame.DataFrame'>\n",
      "RangeIndex: 159292 entries, 0 to 159291\n",
      "Data columns (total 3 columns):\n",
      " #   Column      Non-Null Count   Dtype \n",
      "---  ------      --------------   ----- \n",
      " 0   Unnamed: 0  159292 non-null  int64 \n",
      " 1   text        159292 non-null  object\n",
      " 2   toxic       159292 non-null  int64 \n",
      "dtypes: int64(2), object(1)\n",
      "memory usage: 3.6+ MB\n"
     ]
    }
   ],
   "source": [
    "data.info()"
   ]
  },
  {
   "cell_type": "code",
   "execution_count": 5,
   "id": "e1178865",
   "metadata": {},
   "outputs": [
    {
     "data": {
      "text/plain": [
       "Unnamed: 0    0\n",
       "text          0\n",
       "toxic         0\n",
       "dtype: int64"
      ]
     },
     "execution_count": 5,
     "metadata": {},
     "output_type": "execute_result"
    }
   ],
   "source": [
    "data.isna().sum()"
   ]
  },
  {
   "cell_type": "code",
   "execution_count": 6,
   "id": "86780257",
   "metadata": {},
   "outputs": [
    {
     "data": {
      "text/plain": [
       "0"
      ]
     },
     "execution_count": 6,
     "metadata": {},
     "output_type": "execute_result"
    }
   ],
   "source": [
    "data.duplicated().sum()"
   ]
  },
  {
   "cell_type": "code",
   "execution_count": 7,
   "id": "bead0dd0",
   "metadata": {},
   "outputs": [
    {
     "data": {
      "text/plain": [
       "array([0, 1], dtype=int64)"
      ]
     },
     "execution_count": 7,
     "metadata": {},
     "output_type": "execute_result"
    }
   ],
   "source": [
    "data['toxic'].unique()"
   ]
  },
  {
   "cell_type": "markdown",
   "id": "856cee3a",
   "metadata": {},
   "source": [
    "**Вывод:** данные изучили. Пропусков и дубликатов не обнаружено."
   ]
  },
  {
   "cell_type": "markdown",
   "id": "51c03249",
   "metadata": {},
   "source": [
    "**Выкенем из сета данных столбец \"Unnamed: 0\", он дублирует индексацию**"
   ]
  },
  {
   "cell_type": "code",
   "execution_count": 8,
   "id": "c60e8b21",
   "metadata": {},
   "outputs": [],
   "source": [
    "data = data.drop(['Unnamed: 0'],axis=1)"
   ]
  },
  {
   "cell_type": "code",
   "execution_count": 9,
   "id": "3688d83c",
   "metadata": {},
   "outputs": [
    {
     "data": {
      "text/plain": [
       "(159292, 2)"
      ]
     },
     "execution_count": 9,
     "metadata": {},
     "output_type": "execute_result"
    }
   ],
   "source": [
    "data.shape"
   ]
  },
  {
   "cell_type": "code",
   "execution_count": 10,
   "id": "89596405",
   "metadata": {},
   "outputs": [
    {
     "data": {
      "text/html": [
       "<div>\n",
       "<style scoped>\n",
       "    .dataframe tbody tr th:only-of-type {\n",
       "        vertical-align: middle;\n",
       "    }\n",
       "\n",
       "    .dataframe tbody tr th {\n",
       "        vertical-align: top;\n",
       "    }\n",
       "\n",
       "    .dataframe thead th {\n",
       "        text-align: right;\n",
       "    }\n",
       "</style>\n",
       "<table border=\"1\" class=\"dataframe\">\n",
       "  <thead>\n",
       "    <tr style=\"text-align: right;\">\n",
       "      <th></th>\n",
       "      <th>text</th>\n",
       "      <th>toxic</th>\n",
       "    </tr>\n",
       "  </thead>\n",
       "  <tbody>\n",
       "    <tr>\n",
       "      <th>0</th>\n",
       "      <td>Explanation\\nWhy the edits made under my usern...</td>\n",
       "      <td>0</td>\n",
       "    </tr>\n",
       "    <tr>\n",
       "      <th>1</th>\n",
       "      <td>D'aww! He matches this background colour I'm s...</td>\n",
       "      <td>0</td>\n",
       "    </tr>\n",
       "    <tr>\n",
       "      <th>2</th>\n",
       "      <td>Hey man, I'm really not trying to edit war. It...</td>\n",
       "      <td>0</td>\n",
       "    </tr>\n",
       "    <tr>\n",
       "      <th>3</th>\n",
       "      <td>\"\\nMore\\nI can't make any real suggestions on ...</td>\n",
       "      <td>0</td>\n",
       "    </tr>\n",
       "    <tr>\n",
       "      <th>4</th>\n",
       "      <td>You, sir, are my hero. Any chance you remember...</td>\n",
       "      <td>0</td>\n",
       "    </tr>\n",
       "  </tbody>\n",
       "</table>\n",
       "</div>"
      ],
      "text/plain": [
       "                                                text  toxic\n",
       "0  Explanation\\nWhy the edits made under my usern...      0\n",
       "1  D'aww! He matches this background colour I'm s...      0\n",
       "2  Hey man, I'm really not trying to edit war. It...      0\n",
       "3  \"\\nMore\\nI can't make any real suggestions on ...      0\n",
       "4  You, sir, are my hero. Any chance you remember...      0"
      ]
     },
     "execution_count": 10,
     "metadata": {},
     "output_type": "execute_result"
    }
   ],
   "source": [
    "data.head(5)"
   ]
  },
  {
   "cell_type": "code",
   "execution_count": 11,
   "id": "06953712",
   "metadata": {},
   "outputs": [
    {
     "data": {
      "image/png": "[encoded data removed]",
      "text/plain": [
       "<Figure size 640x480 with 1 Axes>"
      ]
     },
     "metadata": {},
     "output_type": "display_data"
    }
   ],
   "source": [
    "data['toxic'].value_counts().plot.bar();"
   ]
  },
  {
   "cell_type": "markdown",
   "id": "663c4995",
   "metadata": {},
   "source": [
    "**Вывод:** на столбчатой диаграмме заметен дисбаланс классов. Учтём это в будущем."
   ]
  },
  {
   "cell_type": "markdown",
   "id": "bcc5226b",
   "metadata": {},
   "source": [
    "## Обучение"
   ]
  },
  {
   "cell_type": "markdown",
   "id": "6f9abb1b",
   "metadata": {},
   "source": [
    "### Подготовка данных к обучению"
   ]
  },
  {
   "cell_type": "code",
   "execution_count": 12,
   "id": "9eb7b4ed",
   "metadata": {},
   "outputs": [],
   "source": [
    "data_train, data_sep = train_test_split(data,train_size=0.6, test_size=0.4, random_state=12345)\n",
    "data_valid, data_test = train_test_split(data_sep, test_size=0.5, random_state=12345)"
   ]
  },
  {
   "cell_type": "markdown",
   "id": "86fb1ed5",
   "metadata": {},
   "source": [
    "**Проверка правильности разбиения данных**"
   ]
  },
  {
   "cell_type": "code",
   "execution_count": 13,
   "id": "b5b3fd54",
   "metadata": {},
   "outputs": [
    {
     "data": {
      "text/plain": [
       "60.0"
      ]
     },
     "execution_count": 13,
     "metadata": {},
     "output_type": "execute_result"
    }
   ],
   "source": [
    "round((len(data_train)/len(data))*100,2)"
   ]
  },
  {
   "cell_type": "code",
   "execution_count": 14,
   "id": "a3637fb6",
   "metadata": {},
   "outputs": [
    {
     "data": {
      "text/plain": [
       "20.0"
      ]
     },
     "execution_count": 14,
     "metadata": {},
     "output_type": "execute_result"
    }
   ],
   "source": [
    "round((len(data_valid)/len(data))*100,2)"
   ]
  },
  {
   "cell_type": "code",
   "execution_count": 15,
   "id": "fb27186a",
   "metadata": {},
   "outputs": [
    {
     "data": {
      "text/plain": [
       "20.0"
      ]
     },
     "execution_count": 15,
     "metadata": {},
     "output_type": "execute_result"
    }
   ],
   "source": [
    "round((len(data_test)/len(data))*100,2)"
   ]
  },
  {
   "cell_type": "markdown",
   "id": "40905311",
   "metadata": {},
   "source": [
    "**Лемматизация и очистка**"
   ]
  },
  {
   "cell_type": "code",
   "execution_count": 16,
   "id": "a2134bcb",
   "metadata": {},
   "outputs": [],
   "source": [
    "nlp = spacy.load(\"en_core_web_sm\",disable=['parser', 'ner'])"
   ]
  },
  {
   "cell_type": "code",
   "execution_count": 17,
   "id": "f81cc99f",
   "metadata": {},
   "outputs": [],
   "source": [
    "def lemma(text):\n",
    "    norm_text = []\n",
    "    doc = nlp(text)\n",
    "    for token in doc:\n",
    "        if not token.is_punct and not token.is_stop and not token.is_space:\n",
    "            norm_text.append(token.lemma_.lower())\n",
    "    return ' '.join(norm_text)"
   ]
  },
  {
   "cell_type": "code",
   "execution_count": 18,
   "id": "04114821",
   "metadata": {},
   "outputs": [],
   "source": [
    "data_train['lemm_text'] = data_train['text'].apply(lemma)"
   ]
  },
  {
   "cell_type": "code",
   "execution_count": 19,
   "id": "9206014f",
   "metadata": {},
   "outputs": [],
   "source": [
    "data_valid['lemm_text'] = data_valid['text'].apply(lemma)"
   ]
  },
  {
   "cell_type": "code",
   "execution_count": 20,
   "id": "38f6a58f",
   "metadata": {},
   "outputs": [],
   "source": [
    "data_test['lemm_text'] = data_test['text'].apply(lemma)"
   ]
  },
  {
   "cell_type": "code",
   "execution_count": 21,
   "id": "471e8703",
   "metadata": {
    "scrolled": true
   },
   "outputs": [
    {
     "data": {
      "text/html": [
       "<div>\n",
       "<style scoped>\n",
       "    .dataframe tbody tr th:only-of-type {\n",
       "        vertical-align: middle;\n",
       "    }\n",
       "\n",
       "    .dataframe tbody tr th {\n",
       "        vertical-align: top;\n",
       "    }\n",
       "\n",
       "    .dataframe thead th {\n",
       "        text-align: right;\n",
       "    }\n",
       "</style>\n",
       "<table border=\"1\" class=\"dataframe\">\n",
       "  <thead>\n",
       "    <tr style=\"text-align: right;\">\n",
       "      <th></th>\n",
       "      <th>text</th>\n",
       "      <th>toxic</th>\n",
       "      <th>lemm_text</th>\n",
       "    </tr>\n",
       "  </thead>\n",
       "  <tbody>\n",
       "    <tr>\n",
       "      <th>67597</th>\n",
       "      <td>\"::I am not Goldberg and you can't prove otherwise because it is not true. I was blocked because MathKnight went whining about \"\"anti-semitism incitement\"\" based on my User page and some admin app...</td>\n",
       "      <td>0</td>\n",
       "      <td>goldberg prove true block mathknight go whine anti semitism incitement base user page admin apparently believe rake blame personal attack prove typical gang enemy justification evidence thankfully...</td>\n",
       "    </tr>\n",
       "    <tr>\n",
       "      <th>102332</th>\n",
       "      <td>Wikipedia:Articles_for_deletion/List_of_Halo_multiplayer_maps \\n\\nHi.  I reverted your closure here and closed with the same result because something about your closure was breaking the AFD counte...</td>\n",
       "      <td>0</td>\n",
       "      <td>wikipedia articles_for_deletion list_of_halo_multiplayer_maps hi revert closure close result closure break afd counter script let know concerns.v r p</td>\n",
       "    </tr>\n",
       "    <tr>\n",
       "      <th>24989</th>\n",
       "      <td>\"&gt;You claim I blame Poland for all of Germany's loss (which I don't) and then you go and blame Germany for all of Poland's loss, which is totally false!!!\\n\\nI only asked you if you blame Poland f...</td>\n",
       "      <td>0</td>\n",
       "      <td>&gt; claim blame poland germany loss blame germany poland loss totally false ask blame poland german loss claim knowledge course soviet fault total 80 germans &gt; petty nationalist borderline racist tr...</td>\n",
       "    </tr>\n",
       "    <tr>\n",
       "      <th>137235</th>\n",
       "      <td>\"which \"\"SMC\"\"/\"\"BMC\"\" is being referred to? should link to the correct one, not a list\"</td>\n",
       "      <td>0</td>\n",
       "      <td>smc\"\"/\"\"bmc refer link correct list</td>\n",
       "    </tr>\n",
       "    <tr>\n",
       "      <th>104605</th>\n",
       "      <td>You fags need to go back to Golden Road with your butch masters John Sly and Marc Green \\n\\nI had a feeling you couldn't resist accusing all users of being Hdayejr, your hormones just aren't balan...</td>\n",
       "      <td>1</td>\n",
       "      <td>fag need golden road butch master john sly marc green feeling resist accuse user hdayejr hormone balance seriously die kind welcome earth live come introduce rope tree way wikipedia special edit i...</td>\n",
       "    </tr>\n",
       "  </tbody>\n",
       "</table>\n",
       "</div>"
      ],
      "text/plain": [
       "                                                                                                                                                                                                           text  \\\n",
       "67597   \"::I am not Goldberg and you can't prove otherwise because it is not true. I was blocked because MathKnight went whining about \"\"anti-semitism incitement\"\" based on my User page and some admin app...   \n",
       "102332  Wikipedia:Articles_for_deletion/List_of_Halo_multiplayer_maps \\n\\nHi.  I reverted your closure here and closed with the same result because something about your closure was breaking the AFD counte...   \n",
       "24989   \">You claim I blame Poland for all of Germany's loss (which I don't) and then you go and blame Germany for all of Poland's loss, which is totally false!!!\\n\\nI only asked you if you blame Poland f...   \n",
       "137235                                                                                                                 \"which \"\"SMC\"\"/\"\"BMC\"\" is being referred to? should link to the correct one, not a list\"   \n",
       "104605  You fags need to go back to Golden Road with your butch masters John Sly and Marc Green \\n\\nI had a feeling you couldn't resist accusing all users of being Hdayejr, your hormones just aren't balan...   \n",
       "\n",
       "        toxic  \\\n",
       "67597       0   \n",
       "102332      0   \n",
       "24989       0   \n",
       "137235      0   \n",
       "104605      1   \n",
       "\n",
       "                                                                                                                                                                                                      lemm_text  \n",
       "67597   goldberg prove true block mathknight go whine anti semitism incitement base user page admin apparently believe rake blame personal attack prove typical gang enemy justification evidence thankfully...  \n",
       "102332                                                    wikipedia articles_for_deletion list_of_halo_multiplayer_maps hi revert closure close result closure break afd counter script let know concerns.v r p  \n",
       "24989   > claim blame poland germany loss blame germany poland loss totally false ask blame poland german loss claim knowledge course soviet fault total 80 germans > petty nationalist borderline racist tr...  \n",
       "137235                                                                                                                                                                      smc\"\"/\"\"bmc refer link correct list  \n",
       "104605  fag need golden road butch master john sly marc green feeling resist accuse user hdayejr hormone balance seriously die kind welcome earth live come introduce rope tree way wikipedia special edit i...  "
      ]
     },
     "execution_count": 21,
     "metadata": {},
     "output_type": "execute_result"
    }
   ],
   "source": [
    "pd.options.display.max_colwidth = 200\n",
    "data_test.head()"
   ]
  },
  {
   "cell_type": "code",
   "execution_count": 22,
   "id": "a3228421",
   "metadata": {},
   "outputs": [],
   "source": [
    "def clean(text):\n",
    "    text = text.lower()\n",
    "    cleared_text = re.sub(r'[^a-zA-Z]', ' ', text)\n",
    "    return \" \".join(cleared_text.split())"
   ]
  },
  {
   "cell_type": "code",
   "execution_count": 23,
   "id": "28ff1a31",
   "metadata": {},
   "outputs": [],
   "source": [
    "data_train['lemm_text'] = data_train['lemm_text'].apply(clean)"
   ]
  },
  {
   "cell_type": "code",
   "execution_count": 24,
   "id": "1fa19291",
   "metadata": {},
   "outputs": [],
   "source": [
    "data_valid['lemm_text'] = data_valid['lemm_text'].apply(clean)"
   ]
  },
  {
   "cell_type": "code",
   "execution_count": 25,
   "id": "3ba7b7f7",
   "metadata": {},
   "outputs": [],
   "source": [
    "data_test['lemm_text'] = data_test['lemm_text'].apply(clean)"
   ]
  },
  {
   "cell_type": "markdown",
   "id": "0fc88767",
   "metadata": {},
   "source": [
    "**Подготовка признаков**"
   ]
  },
  {
   "cell_type": "code",
   "execution_count": 26,
   "id": "b7fd0ede",
   "metadata": {},
   "outputs": [],
   "source": [
    "count_tf_idf = TfidfVectorizer()"
   ]
  },
  {
   "cell_type": "markdown",
   "id": "55008193",
   "metadata": {},
   "source": [
    "Тренировочные"
   ]
  },
  {
   "cell_type": "code",
   "execution_count": 27,
   "id": "7d0a14f0",
   "metadata": {},
   "outputs": [],
   "source": [
    "feature_train = count_tf_idf.fit_transform(data_train['lemm_text'])\n",
    "target_train = data_train['toxic']"
   ]
  },
  {
   "cell_type": "markdown",
   "id": "395e2385",
   "metadata": {},
   "source": [
    "Валидационные"
   ]
  },
  {
   "cell_type": "code",
   "execution_count": 28,
   "id": "e8430007",
   "metadata": {},
   "outputs": [],
   "source": [
    "feature_valid = count_tf_idf.transform(data_valid['lemm_text'])\n",
    "target_valid = data_valid['toxic']"
   ]
  },
  {
   "cell_type": "markdown",
   "id": "7170cc04",
   "metadata": {},
   "source": [
    "Тестовые"
   ]
  },
  {
   "cell_type": "code",
   "execution_count": 29,
   "id": "b9581161",
   "metadata": {},
   "outputs": [],
   "source": [
    "feature_test = count_tf_idf.transform(data_test['lemm_text'])\n",
    "target_test = data_test['toxic']"
   ]
  },
  {
   "cell_type": "markdown",
   "id": "5d79848e",
   "metadata": {},
   "source": [
    "**Пробное обучение Логистической регрессии без баланса классов**"
   ]
  },
  {
   "cell_type": "code",
   "execution_count": 30,
   "id": "d1155a33",
   "metadata": {
    "scrolled": true
   },
   "outputs": [
    {
     "name": "stdout",
     "output_type": "stream",
     "text": [
      "f1-score: 0.733\n"
     ]
    }
   ],
   "source": [
    "model = LogisticRegression(solver='liblinear').fit(feature_train,target_train)\n",
    "pred = model.predict(feature_valid)\n",
    "print('f1-score:',round(f1_score(target_valid,pred),3))"
   ]
  },
  {
   "cell_type": "markdown",
   "id": "eeccd203",
   "metadata": {},
   "source": [
    "**Пробное обучение Логистической регрессии с балансом классов**"
   ]
  },
  {
   "cell_type": "code",
   "execution_count": 31,
   "id": "0d0857a0",
   "metadata": {},
   "outputs": [
    {
     "name": "stdout",
     "output_type": "stream",
     "text": [
      "f1-score balanced: 0.752\n"
     ]
    }
   ],
   "source": [
    "model = LogisticRegression(solver='liblinear',class_weight='balanced').fit(feature_train,target_train)\n",
    "pred = model.predict(feature_valid)\n",
    "print('f1-score balanced:',round(f1_score(target_valid,pred),3))"
   ]
  },
  {
   "cell_type": "markdown",
   "id": "99be0d72",
   "metadata": {},
   "source": [
    "**Вывод:** при балансе классов значение метрики f1 растет"
   ]
  },
  {
   "cell_type": "markdown",
   "id": "cd00af77",
   "metadata": {},
   "source": [
    "### Проведем балансировку классов методом downsample"
   ]
  },
  {
   "cell_type": "code",
   "execution_count": 32,
   "id": "55885b75",
   "metadata": {},
   "outputs": [],
   "source": [
    "feature_train = data_train['lemm_text']\n",
    "target_train = data_train['toxic']"
   ]
  },
  {
   "cell_type": "code",
   "execution_count": 33,
   "id": "6be1f0b0",
   "metadata": {},
   "outputs": [],
   "source": [
    "def downsample(features,target,fraction):\n",
    "    features_zeros = features[target == 0]\n",
    "    features_ones = features[target == 1]\n",
    "    target_zeros = target[target == 0]\n",
    "    target_ones = target[target == 1]\n",
    "    \n",
    "    features_downsampled = pd.concat(\n",
    "        [features_zeros.sample(frac=fraction, random_state=12345)] + [features_ones])\n",
    "    target_downsampled = pd.concat(\n",
    "        [target_zeros.sample(frac=fraction, random_state=12345)] + [target_ones])\n",
    "    \n",
    "    features_downsampled, target_downsampled = shuffle(\n",
    "        features_downsampled,target_downsampled,random_state=12345)\n",
    "    \n",
    "    return features_downsampled, target_downsampled"
   ]
  },
  {
   "cell_type": "code",
   "execution_count": 34,
   "id": "81e20ec8",
   "metadata": {},
   "outputs": [],
   "source": [
    "features_downsampled, target_downsampled = downsample(feature_train,target_train, 0.3)"
   ]
  },
  {
   "cell_type": "code",
   "execution_count": 35,
   "id": "92dc4702",
   "metadata": {},
   "outputs": [],
   "source": [
    "features_downsampled_ds = count_tf_idf.transform(features_downsampled)"
   ]
  },
  {
   "cell_type": "markdown",
   "id": "b6686b26",
   "metadata": {},
   "source": [
    "**Модель логистической регрессии**"
   ]
  },
  {
   "cell_type": "code",
   "execution_count": 36,
   "id": "a91a3b02",
   "metadata": {},
   "outputs": [
    {
     "name": "stdout",
     "output_type": "stream",
     "text": [
      "f1-score sampled:  0.769\n"
     ]
    }
   ],
   "source": [
    "model = LogisticRegression(solver='liblinear').fit(features_downsampled_ds,target_downsampled)\n",
    "pred = model.predict(feature_valid)\n",
    "print('f1-score sampled: ',round(f1_score(target_valid,pred),3))"
   ]
  },
  {
   "cell_type": "code",
   "execution_count": 37,
   "id": "f98d078d",
   "metadata": {
    "scrolled": true
   },
   "outputs": [
    {
     "name": "stdout",
     "output_type": "stream",
     "text": [
      "f1-score cross val sampled:  0.621\n"
     ]
    }
   ],
   "source": [
    "cvs = cross_val_score(model,feature_valid,target_valid,cv=5,scoring='f1').mean()\n",
    "print('f1-score cross val sampled: ',round(cvs,3))"
   ]
  },
  {
   "cell_type": "markdown",
   "id": "537a9d94",
   "metadata": {},
   "source": [
    "**Вывод:** после проведения балансировки классов методом downsample метрика f1 стала выше. "
   ]
  },
  {
   "cell_type": "markdown",
   "id": "20670210",
   "metadata": {},
   "source": [
    "**Модель дерева решений**"
   ]
  },
  {
   "cell_type": "code",
   "execution_count": 38,
   "id": "e2e8bbb7",
   "metadata": {},
   "outputs": [],
   "source": [
    "# model_dtc = DecisionTreeClassifier(random_state=12345)"
   ]
  },
  {
   "cell_type": "code",
   "execution_count": 39,
   "id": "54f6effb",
   "metadata": {},
   "outputs": [],
   "source": [
    "# params = {\n",
    "#     'max_depth': range(10,50,5),\n",
    "#     'min_samples_leaf': range(1,3,1)\n",
    "# }"
   ]
  },
  {
   "cell_type": "code",
   "execution_count": 40,
   "id": "1dff3497",
   "metadata": {},
   "outputs": [],
   "source": [
    "# grid_dtc = GridSearchCV(model_dtc,params,cv=3,scoring='f1')\n",
    "# grid_dtc.fit(features_downsampled_ds, target_downsampled);\n",
    "# grid_dtc.best_params_"
   ]
  },
  {
   "cell_type": "code",
   "execution_count": 41,
   "id": "addc6e75",
   "metadata": {},
   "outputs": [
    {
     "name": "stdout",
     "output_type": "stream",
     "text": [
      "f1-score:  0.702\n"
     ]
    }
   ],
   "source": [
    "model_dtc = DecisionTreeClassifier(random_state=12345,max_depth=45,min_samples_leaf=1)\n",
    "model_dtc.fit(features_downsampled_ds,target_downsampled)\n",
    "pred = model_dtc.predict(feature_valid)\n",
    "print('f1-score: ',round(f1_score(target_valid,pred),3))"
   ]
  },
  {
   "cell_type": "markdown",
   "id": "cb11122d",
   "metadata": {},
   "source": [
    "**Модель CatBoost**"
   ]
  },
  {
   "cell_type": "code",
   "execution_count": 42,
   "id": "91d5e957",
   "metadata": {},
   "outputs": [],
   "source": [
    "# cat = CatBoostClassifier(silent=True,random_state=12345,depth=6,learning_rate=0.5,iterations=150)"
   ]
  },
  {
   "cell_type": "code",
   "execution_count": 43,
   "id": "321ac1b1",
   "metadata": {},
   "outputs": [],
   "source": [
    "# cat.fit(features_downsampled_ds,target_downsampled)\n",
    "# pred = cat.predict(feature_valid)\n",
    "# print('f1-score: ',round(f1_score(target_valid,pred),2))"
   ]
  },
  {
   "cell_type": "code",
   "execution_count": 44,
   "id": "7690f7d5",
   "metadata": {},
   "outputs": [],
   "source": [
    "cat = CatBoostClassifier(silent=True,\n",
    "                         random_state=12345,\n",
    "                         loss_function='Logloss',\n",
    "                         early_stopping_rounds=20,\n",
    "                         depth=6,\n",
    "                         iterations=250,\n",
    "                         learning_rate=0.6)"
   ]
  },
  {
   "cell_type": "code",
   "execution_count": 45,
   "id": "2800ad98",
   "metadata": {},
   "outputs": [],
   "source": [
    "# params = {\n",
    "#     'iterations': range(100,300,50),\n",
    "#     'learning_rate': [0.1,0.3,0.6,0.9],\n",
    "#     'depth': range(4,10,2)\n",
    "# }"
   ]
  },
  {
   "cell_type": "code",
   "execution_count": 46,
   "id": "9f37d9ff",
   "metadata": {},
   "outputs": [],
   "source": [
    "# grid_cat = GridSearchCV(cat,params,cv=3,scoring='f1')\n",
    "# grid_cat.fit(features_downsampled_ds, target_downsampled);\n",
    "# grid_cat.best_params_"
   ]
  },
  {
   "cell_type": "code",
   "execution_count": 47,
   "id": "3b858ff1",
   "metadata": {},
   "outputs": [
    {
     "name": "stdout",
     "output_type": "stream",
     "text": [
      "f1-score:  0.769\n"
     ]
    }
   ],
   "source": [
    "cat.fit(features_downsampled_ds,target_downsampled)\n",
    "pred = cat.predict(feature_valid)\n",
    "print('f1-score: ',round(f1_score(target_valid,pred),3))"
   ]
  },
  {
   "cell_type": "markdown",
   "id": "4f8a9b0b",
   "metadata": {},
   "source": [
    "### Тестирование лучшей модели"
   ]
  },
  {
   "cell_type": "code",
   "execution_count": 48,
   "id": "db8c2f12",
   "metadata": {
    "scrolled": true
   },
   "outputs": [
    {
     "name": "stdout",
     "output_type": "stream",
     "text": [
      "f1-score sampled:  0.764\n"
     ]
    }
   ],
   "source": [
    "pred = model.predict(feature_test)\n",
    "print('f1-score sampled: ',round(f1_score(target_test,pred),3))"
   ]
  },
  {
   "cell_type": "markdown",
   "id": "5e5717ab",
   "metadata": {},
   "source": [
    "## Выводы"
   ]
  },
  {
   "cell_type": "markdown",
   "id": "8d3583cd",
   "metadata": {},
   "source": [
    "В ходе проделанной работы были рассмотрены три модели:\n",
    "1. Логистическая регрессия\n",
    "2. Дерево решений\n",
    "3. CatBoost\n",
    "\n",
    "На валидационных данных регрессия и CatBoost дали одинаковые результаты. Исходя из скорости предсказания лучше выбрать логистическую регрессию."
   ]
  }
 ],
 "metadata": {
  "kernelspec": {
   "display_name": "Python 3 (ipykernel)",
   "language": "python",
   "name": "python3"
  },
  "language_info": {
   "codemirror_mode": {
    "name": "ipython",
    "version": 3
   },
   "file_extension": ".py",
   "mimetype": "text/x-python",
   "name": "python",
   "nbconvert_exporter": "python",
   "pygments_lexer": "ipython3",
   "version": "3.9.13"
  }
 },
 "nbformat": 4,
 "nbformat_minor": 5
}
